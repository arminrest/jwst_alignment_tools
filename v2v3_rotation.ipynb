{
 "cells": [
  {
   "cell_type": "code",
   "execution_count": 97,
   "id": "44a940d1",
   "metadata": {},
   "outputs": [
    {
     "name": "stdout",
     "output_type": "stream",
     "text": [
      "FGS V2Ref: 206.407\n",
      "FGS V3Ref: -697.765\n",
      "FGS V3IdlYAngle: -1.24120427\n"
     ]
    }
   ],
   "source": [
    "from jwst import datamodels\n",
    "import pysiaf\n",
    "from astropy.io import fits\n",
    "from astropy.coordinates import SkyCoord\n",
    "import astropy.units as u\n",
    "import sys,os,re\n",
    "import numpy as np\n",
    "from astropy.modeling.models import Polynomial2D, Mapping, Shift\n",
    "\n",
    "fgs_siaf = pysiaf.Siaf('FGS') \n",
    "fgs_aperture= fgs_siaf.apertures['FGS1_FULL']\n",
    "fgs_x0=fgs_aperture.XSciRef-1.0\n",
    "fgs_y0=fgs_aperture.YSciRef-1.0\n",
    "dy = 0.02 # difference in pixel to go into +- y-direction\n",
    "print(f'FGS V2Ref: {fgs_aperture.V2Ref}')\n",
    "print(f'FGS V3Ref: {fgs_aperture.V3Ref}')\n",
    "print(f'FGS V3IdlYAngle: {fgs_aperture.V3IdlYAngle}')"
   ]
  },
  {
   "cell_type": "code",
   "execution_count": 88,
   "id": "222a929e",
   "metadata": {},
   "outputs": [],
   "source": [
    "fgsfilename = '/Volumes/Ext1/jhat/v2v3ref/hawki_v1/jw01476006004_06201_00002_guider1_jhat.fits'\n",
    "nrcfilename = '/Volumes/Ext1/jhat/v2v3ref/hawki_v1/jw01476006004_06101_00002_nrca1_jhat.fits'"
   ]
  },
  {
   "cell_type": "code",
   "execution_count": 89,
   "id": "38bd2f7c",
   "metadata": {},
   "outputs": [],
   "source": [
    "fgs_model = datamodels.ImageModel(fgsfilename)\n",
    "fgs_detector_to_world=fgs_model.meta.wcs.get_transform('detector', 'world') \n",
    "fgs_detector_to_v2v3=fgs_model.meta.wcs.get_transform('detector', 'v2v3') \n",
    "fgs_world_to_v2v3=fgs_model.meta.wcs.get_transform('world','v2v3') \n",
    "nrc_model = datamodels.ImageModel(nrcfilename)\n",
    "nrc_detector_to_world=nrc_model.meta.wcs.get_transform('detector', 'world') \n"
   ]
  },
  {
   "cell_type": "code",
   "execution_count": 90,
   "id": "8f543e79",
   "metadata": {},
   "outputs": [
    {
     "name": "stdout",
     "output_type": "stream",
     "text": [
      "V2/V3ref siaf   206.4070 -697.7650\n",
      "V2/V3ref center 206.4640 -697.9700\n"
     ]
    }
   ],
   "source": [
    "fgs_v2,fgs_v3 = fgs_detector_to_v2v3(fgs_x0,fgs_y0)\n",
    "print(f'V2/V3ref siaf   {fgs_aperture.V2Ref:.4f} {fgs_aperture.V3Ref:.4f}')\n",
    "print(f'V2/V3ref center {fgs_v2:.4f} {fgs_v3:.4f}')"
   ]
  },
  {
   "cell_type": "code",
   "execution_count": 11,
   "id": "889581f1",
   "metadata": {},
   "outputs": [],
   "source": [
    "def get_RaDec12(model,x1,y1,x2,y2):\n",
    "    detector_to_world=model.meta.wcs.get_transform('detector', 'world') \n",
    "    ra1,dec1 = detector_to_world(x1,y1)\n",
    "    ra2,dec2 = detector_to_world(x2,y2)\n",
    "    return(ra1,dec1,ra2,dec2)\n",
    "\n",
    "def get_angles(model,ra1,dec1,ra2,dec2):\n",
    "    pos1 = SkyCoord(ra=ra1, dec=dec1, unit=(u.deg,u.deg), frame='icrs')\n",
    "    pos2 = SkyCoord(ra=ra2, dec=dec2, unit=(u.deg,u.deg), frame='icrs')\n",
    "    PA = pos1.position_angle(pos2).to(u.deg)\n",
    "    world_to_v2v3=model.meta.wcs.get_transform('world','v2v3') \n",
    "    v2_1,v3_1 = world_to_v2v3(ra1,dec1)\n",
    "    v2_2,v3_2 = world_to_v2v3(ra2,dec2)\n",
    "    #print(v2_1,v3_1,v2_2,v3_2)\n",
    "    pos1 = SkyCoord(ra=v2_1, dec=v3_1, unit=(u.arcsec,u.arcsec), frame='icrs')\n",
    "    pos2 = SkyCoord(ra=v2_2, dec=v3_2, unit=(u.arcsec,u.arcsec), frame='icrs')\n",
    "    angle = pos1.position_angle(pos2).to(u.deg)\n",
    "    if angle.degree>90: \n",
    "        angle-=180.0*u.deg\n",
    "    if angle.degree<-90:\n",
    "        angle+=180.0*u.deg\n",
    "    return(PA,angle)"
   ]
  },
  {
   "cell_type": "code",
   "execution_count": 98,
   "id": "31d5362a",
   "metadata": {},
   "outputs": [
    {
     "name": "stdout",
     "output_type": "stream",
     "text": [
      "fgs_V3IdlYAngle: -1.2508098372933034 (nominal fgs_V3IdlYAngle:-1.24120427)\n"
     ]
    }
   ],
   "source": [
    "y1 = fgs_y0+dy\n",
    "y2 = fgs_y0-dy\n",
    "x1=x2=fgs_x0\n",
    "fgs_radec12 = get_RaDec12(fgs_model,x1,y1,x2,y2)\n",
    "fgs_PA,fgs_V3IdlYAngle = get_angles(fgs_model,fgs_radec12[0],fgs_radec12[1],fgs_radec12[2],fgs_radec12[3])\n",
    "print(f'fgs_V3IdlYAngle: {fgs_V3IdlYAngle.degree} (nominal fgs_V3IdlYAngle:{fgs_aperture.V3IdlYAngle})')\n"
   ]
  },
  {
   "cell_type": "code",
   "execution_count": 99,
   "id": "4a50f5aa",
   "metadata": {},
   "outputs": [
    {
     "name": "stdout",
     "output_type": "stream",
     "text": [
      "-1.2508099712959222\n"
     ]
    }
   ],
   "source": [
    "fgs_v2_1,fgs_v3_1 = fgs_detector_to_v2v3(x1,y1)\n",
    "fgs_v2_2,fgs_v3_2 = fgs_detector_to_v2v3(x2,y2)\n",
    "pos1 = SkyCoord(ra=fgs_v2_1, dec=fgs_v3_1, unit=(u.arcsec,u.arcsec), frame='icrs')\n",
    "pos2 = SkyCoord(ra=fgs_v2_2, dec=fgs_v3_2, unit=(u.arcsec,u.arcsec), frame='icrs')\n",
    "angle = pos1.position_angle(pos2).to(u.deg)\n",
    "if angle.degree>90: \n",
    "    angle-=180.0*u.deg\n",
    "if angle.degree<-90:\n",
    "    angle+=180.0*u.deg\n",
    "print(angle.deg)"
   ]
  },
  {
   "cell_type": "code",
   "execution_count": 100,
   "id": "529ce034",
   "metadata": {},
   "outputs": [
    {
     "name": "stdout",
     "output_type": "stream",
     "text": [
      "-1.2508171302552\n",
      "-1.2508199558254205\n",
      "-1.250814304683388\n"
     ]
    }
   ],
   "source": [
    "angle = np.degrees(np.arctan2(fgs_v2_2-fgs_v2_1, fgs_v3_2-fgs_v3_1))\n",
    "print(angle-180)\n",
    "angle = np.degrees(np.arctan2(fgs_v2_2-fgs_v2, fgs_v3_2-fgs_v3))\n",
    "print(angle-180)\n",
    "angle = np.degrees(np.arctan2(fgs_v2-fgs_v2_1, fgs_v3-fgs_v3_1))\n",
    "print(angle-180)"
   ]
  },
  {
   "cell_type": "code",
   "execution_count": 26,
   "id": "00f52af6",
   "metadata": {},
   "outputs": [],
   "source": [
    "def rotate_v2v3(x0,y0,angle,par=1.0):\n",
    "    # Cast the transform functions as 1st order polynomials\n",
    "    xc = {}\n",
    "    yc = {}\n",
    "    xc['c1_0'] = par * np.cos(angle)\n",
    "    xc['c0_1'] = par * (0. - np.sin(angle))\n",
    "    yc['c1_0'] = np.sin(angle)\n",
    "    yc['c0_1'] = np.cos(angle)\n",
    "\n",
    "    # center\n",
    "    xc['c0_0'] = x0\n",
    "    yc['c0_0'] = y0\n",
    "\n",
    "    xmodel = Polynomial2D(1, **xc)\n",
    "    ymodel = Polynomial2D(1, **yc)\n",
    "\n",
    "    return xmodel, ymodel\n"
   ]
  },
  {
   "cell_type": "code",
   "execution_count": 48,
   "id": "27305905",
   "metadata": {},
   "outputs": [
    {
     "name": "stdout",
     "output_type": "stream",
     "text": [
      "[206.464      206.45035656 206.47764417] [-697.97       -697.98364344 -697.95635583]\n"
     ]
    }
   ],
   "source": [
    "v2function, v3function = rotate_v2v3(fgs_v2,fgs_v3,5.0/180*np.pi)\n",
    "v2function, v3function = rotate_v2v3(0.,0.,10.0 * np.pi / 180.)\n",
    "v2list = np.array([fgs_v2,fgs_v2_1,fgs_v2_2]) - fgs_v2\n",
    "v3list = np.array([fgs_v3,fgs_v3_1,fgs_v3_2]) - fgs_v3\n",
    "v2new = v2function(v2list,v3list) + fgs_v2\n",
    "v3new = v2function(v2list,v3list) + fgs_v3\n",
    "print(v2new,v3new)"
   ]
  },
  {
   "cell_type": "code",
   "execution_count": 49,
   "id": "32570d29",
   "metadata": {},
   "outputs": [
    {
     "name": "stdout",
     "output_type": "stream",
     "text": [
      "44.99983599658119\n"
     ]
    }
   ],
   "source": [
    "pos1 = SkyCoord(ra=v2new[1], dec=v3new[1], unit=(u.arcsec,u.arcsec), frame='icrs')\n",
    "pos2 = SkyCoord(ra=v2new[2], dec=v3new[2], unit=(u.arcsec,u.arcsec), frame='icrs')\n",
    "angle = pos1.position_angle(pos2).to(u.deg)\n",
    "if angle.degree>90: \n",
    "    angle-=180.0*u.deg\n",
    "if angle.degree<-90:\n",
    "    angle+=180.0*u.deg\n",
    "print(angle.deg)"
   ]
  },
  {
   "cell_type": "code",
   "execution_count": 76,
   "id": "b1cf98c3",
   "metadata": {},
   "outputs": [
    {
     "name": "stdout",
     "output_type": "stream",
     "text": [
      "[ 0.17364818  0.         -0.17364818] [-0.98480775  0.          0.98480775]\n"
     ]
    }
   ],
   "source": [
    "v2function, v3function = rotate_v2v3(fgs_v2,fgs_v3,5.0/180*np.pi)\n",
    "v2function, v3function = rotate_v2v3(0.,0.,10.0 * np.pi / 180.)\n",
    "v2list = np.array([0,0,0])\n",
    "v3list = np.array([-1,0,1])\n",
    "v2new = v2function(v2list,v3list)\n",
    "v3new = v3function(v2list,v3list)\n",
    "print(v2new,v3new)"
   ]
  },
  {
   "cell_type": "code",
   "execution_count": 75,
   "id": "af4cf827",
   "metadata": {},
   "outputs": [
    {
     "name": "stdout",
     "output_type": "stream",
     "text": [
      "Model: Rotation2D\n",
      "Inputs: ('x', 'y')\n",
      "Outputs: ('x', 'y')\n",
      "Model set size: 1\n",
      "Parameters:\n",
      "    angle\n",
      "    -----\n",
      "      0.0\n",
      "[0 0 0] [-1  0  1]\n",
      "[ 0.17364818  0.         -0.17364818] [-0.98480775  0.          0.98480775]\n"
     ]
    }
   ],
   "source": [
    "from astropy.modeling.rotations import Rotation2D\n",
    "R = Rotation2D()\n",
    "print(R)\n",
    "(v2new,v3new) = R.evaluate(v2list,v3list,10*u.deg)\n",
    "print(v2list,v3list)\n",
    "print(v2new,v3new)"
   ]
  },
  {
   "cell_type": "code",
   "execution_count": 80,
   "id": "723756b6",
   "metadata": {},
   "outputs": [
    {
     "name": "stdout",
     "output_type": "stream",
     "text": [
      "-10.0\n"
     ]
    }
   ],
   "source": [
    "angle = np.degrees(np.arctan2(v2new[2]-v2new[1], v3new[2]-v3new[1]))\n",
    "print(angle)"
   ]
  },
  {
   "cell_type": "code",
   "execution_count": null,
   "id": "8dc5240b",
   "metadata": {},
   "outputs": [],
   "source": []
  }
 ],
 "metadata": {
  "kernelspec": {
   "display_name": "Python 3 (ipykernel)",
   "language": "python",
   "name": "python3"
  },
  "language_info": {
   "codemirror_mode": {
    "name": "ipython",
    "version": 3
   },
   "file_extension": ".py",
   "mimetype": "text/x-python",
   "name": "python",
   "nbconvert_exporter": "python",
   "pygments_lexer": "ipython3",
   "version": "3.10.4"
  }
 },
 "nbformat": 4,
 "nbformat_minor": 5
}
