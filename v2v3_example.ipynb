{
 "cells": [
  {
   "cell_type": "code",
   "execution_count": 75,
   "id": "44a940d1",
   "metadata": {},
   "outputs": [
    {
     "name": "stdout",
     "output_type": "stream",
     "text": [
      "FGS1_FULL V2Ref: 206.407\n",
      "FGS1_FULL V3Ref: -697.765\n",
      "FGS1_FULL V3IdlYAngle: -1.24120427\n",
      "NRCA1_FULL V2Ref: 120.620865\n",
      "NRCA1_FULL V3Ref: -527.541137\n",
      "NRCA1_FULL V3IdlYAngle: -0.54644233\n"
     ]
    }
   ],
   "source": [
    "from jwst import datamodels\n",
    "import pysiaf\n",
    "from astropy.io import fits\n",
    "from astropy.coordinates import SkyCoord\n",
    "import astropy.units as u\n",
    "import sys,os,re\n",
    "import numpy as np\n",
    "from astropy.modeling.models import Polynomial2D, Mapping, Shift\n",
    "from pdastro import pdastroclass\n",
    "\n",
    "fgs_apername = 'FGS1_FULL'\n",
    "fgs_siaf = pysiaf.Siaf('FGS') \n",
    "fgs_aperture= fgs_siaf.apertures[fgs_apername]\n",
    "fgs_x0=fgs_aperture.XSciRef-1.0\n",
    "fgs_y0=fgs_aperture.YSciRef-1.0\n",
    "print(f'{fgs_apername} V2Ref: {fgs_aperture.V2Ref}')\n",
    "print(f'{fgs_apername} V3Ref: {fgs_aperture.V3Ref}')\n",
    "print(f'{fgs_apername} V3IdlYAngle: {fgs_aperture.V3IdlYAngle}')\n",
    "\n",
    "nrc_apername = 'NRCA1_FULL'\n",
    "nrc_siaf = pysiaf.Siaf('NIRCAM') \n",
    "nrc_aperture= nrc_siaf.apertures[nrc_apername]\n",
    "nrc_x0=nrc_aperture.XSciRef-1.0\n",
    "nrc_y0=nrc_aperture.YSciRef-1.0\n",
    "print(f'{nrc_apername} V2Ref: {nrc_aperture.V2Ref}')\n",
    "print(f'{nrc_apername} V3Ref: {nrc_aperture.V3Ref}')\n",
    "print(f'{nrc_apername} V3IdlYAngle: {nrc_aperture.V3IdlYAngle}')"
   ]
  },
  {
   "cell_type": "code",
   "execution_count": 36,
   "id": "222a929e",
   "metadata": {},
   "outputs": [],
   "source": [
    "#fgsfilename = '/Volumes/Ext1/jhat/v2v3ref/hawki_v1/jw01476006004_06201_00002_guider1_jhat.fits'\n",
    "#nrcfilename = '/Volumes/Ext1/jhat/v2v3ref/hawki_v1/jw01476006004_06101_00002_nrca1_jhat.fits'\n",
    "fgsfilename = '/user/arest/v2v3example/jw01476006004_06201_00002_guider1_jhat.fits'\n",
    "nrcfilename = '/user/arest/v2v3example/jw01476006004_06101_00002_nrca1_jhat.fits'"
   ]
  },
  {
   "cell_type": "code",
   "execution_count": 37,
   "id": "38bd2f7c",
   "metadata": {},
   "outputs": [],
   "source": [
    "fgs_model = datamodels.ImageModel(fgsfilename)\n",
    "fgs_detector_to_world=fgs_model.meta.wcs.get_transform('detector', 'world') \n",
    "fgs_detector_to_v2v3=fgs_model.meta.wcs.get_transform('detector', 'v2v3') \n",
    "fgs_world_to_v2v3=fgs_model.meta.wcs.get_transform('world','v2v3') \n",
    "\n",
    "nrc_model = datamodels.ImageModel(nrcfilename)\n",
    "nrc_detector_to_world=nrc_model.meta.wcs.get_transform('detector', 'world') \n"
   ]
  },
  {
   "cell_type": "code",
   "execution_count": 12,
   "id": "5978ce81",
   "metadata": {},
   "outputs": [],
   "source": []
  },
  {
   "cell_type": "code",
   "execution_count": 82,
   "id": "8f543e79",
   "metadata": {},
   "outputs": [
    {
     "name": "stdout",
     "output_type": "stream",
     "text": [
      "V2/V3ref siaf   206.4070 -697.7650\n",
      "V2/V3ref center 206.4640 -697.9700\n",
      "V3YIdlangle -1.2508171302552 (nominal: -1.24120427)\n",
      "V3YIdlangle -1.2508171302552 (nominal: -1.24120427)\n",
      "      name         v2          v3\n",
      "fgs_v2v3_0 206.464000 -697.970000\n",
      "fgs_v2v3_1 206.463969 -697.968602\n",
      "fgs_v2v3_2 206.464031 -697.971398\n"
     ]
    },
    {
     "data": {
      "text/plain": [
       "0"
      ]
     },
     "execution_count": 82,
     "metadata": {},
     "output_type": "execute_result"
    }
   ],
   "source": [
    "v2v3list = pdastroclass()\n",
    "# calculate FGS V2/V3ref and V3IdlYAngle of image, and compare to nominal values\n",
    "# caluclate FGS V2/V3 for center pixel +- dy\n",
    "# save the V2/V3 coordinates in v2v3list\n",
    "fgs_v2_0,fgs_v3_0 = fgs_detector_to_v2v3(fgs_x0,fgs_y0)\n",
    "print(f'V2/V3ref siaf   {fgs_aperture.V2Ref:.4f} {fgs_aperture.V3Ref:.4f}')\n",
    "print(f'V2/V3ref center {fgs_v2_0:.4f} {fgs_v3_0:.4f}')\n",
    "dy = 0.02 # difference in pixel to go into +- y-direction\n",
    "#y1 = fgs_y0+dy\n",
    "#y2 = fgs_y0-dy\n",
    "#x1=x2=fgs_x0\n",
    "fgs_v2_1,fgs_v3_1 = fgs_detector_to_v2v3(fgs_x0,fgs_y0+dy)\n",
    "fgs_v2_2,fgs_v3_2 = fgs_detector_to_v2v3(fgs_x0,fgs_y0-dy)\n",
    "\n",
    "fgs_ix_0 = v2v3list.newrow({'name':'fgs_v2v3_0','v2':fgs_v2_0,'v3':fgs_v3_0})\n",
    "fgs_ix_1 = v2v3list.newrow({'name':'fgs_v2v3_1','v2':fgs_v2_1,'v3':fgs_v3_1})\n",
    "fgs_ix_2 = v2v3list.newrow({'name':'fgs_v2v3_2','v2':fgs_v2_2,'v3':fgs_v3_2})\n",
    "fgs_V3IdlYAngle = np.degrees(np.arctan2(v2v3list.t.loc[fgs_ix_2,'v2']-v2v3list.t.loc[fgs_ix_1,'v2'], \n",
    "                                        v2v3list.t.loc[fgs_ix_2,'v3']-v2v3list.t.loc[fgs_ix_1,'v3']))\n",
    "if fgs_V3IdlYAngle>90.0: fgs_V3IdlYAngle-=180\n",
    "print(f'V3YIdlangle {fgs_V3IdlYAngle} (nominal: {fgs_aperture.V3IdlYAngle})')\n",
    "\n",
    "\n",
    "v2v3list.write()"
   ]
  },
  {
   "cell_type": "code",
   "execution_count": 83,
   "id": "2511b063",
   "metadata": {},
   "outputs": [],
   "source": [
    "# Convert x,y center of NIRCam into Ra,Dec, and then use FGS model to calculate the corresponding V2/V3 coordinates\n",
    "# Do the same with center +- dy pixels\n",
    "\n",
    "nrc_ra_0,nrc_dec_0 = nrc_detector_to_world(nrc_x0,nrc_y0)\n",
    "nrc_ra_1,nrc_dec_1 = nrc_detector_to_world(nrc_x0,nrc_y0+dy)\n",
    "nrc_ra_2,nrc_dec_2 = nrc_detector_to_world(nrc_x0,nrc_y0-dy)\n",
    "nrc_v2_0,nrc_v3_0 = fgs_world_to_v2v3(nrc_ra_0,nrc_dec_0)\n",
    "nrc_v2_1,nrc_v3_1 = fgs_world_to_v2v3(nrc_ra_1,nrc_dec_1)\n",
    "nrc_v2_2,nrc_v3_2 = fgs_world_to_v2v3(nrc_ra_2,nrc_dec_2)\n",
    "nrc_ix_0 = v2v3list.newrow({'name':'nrc_v2v3_0','v2':nrc_v2_0,'v3':nrc_v3_0})\n",
    "nrc_ix_1 = v2v3list.newrow({'name':'nrc_v2v3_1','v2':nrc_v2_1,'v3':nrc_v3_1})\n",
    "nrc_ix_2 = v2v3list.newrow({'name':'nrc_v2v3_2','v2':nrc_v2_2,'v3':nrc_v3_2})\n"
   ]
  },
  {
   "cell_type": "code",
   "execution_count": 89,
   "id": "889581f1",
   "metadata": {},
   "outputs": [
    {
     "name": "stdout",
     "output_type": "stream",
     "text": [
      "      name         v2          v3      v2rot       v3rot\n",
      "fgs_v2v3_0 206.464000 -697.970000 206.407000 -697.765000\n",
      "fgs_v2v3_1 206.463969 -697.968602 206.406970 -697.763602\n",
      "fgs_v2v3_2 206.464031 -697.971398 206.407030 -697.766398\n",
      "nrc_v2v3_0 120.680190 -527.857663 120.651732 -527.638273\n",
      "nrc_v2v3_1 120.680183 -527.857037 120.651725 -527.637647\n",
      "nrc_v2v3_2 120.680196 -527.858290 120.651738 -527.638900\n",
      "FGS rotated V3YIdlangle -1.24120427 from -1.25081713 (nominal: -1.24120427)\n",
      "###### Results:\n",
      "NRCA1_FULL V2Ref: 120.6517 (nominal: 120.6209)\n",
      "NRCA1_FULL V3Ref: -527.6383 (nominal: -527.5411)\n",
      "NRCA1_FULL V3YIdlangle -0.55385852 (nominal: -0.54644233)\n"
     ]
    }
   ],
   "source": [
    "# Rotate the V2/V3 so that the center FGS pixel and V3IdlYAngle agree with siaf\n",
    "from astropy.modeling.rotations import Rotation2D\n",
    "R = Rotation2D()\n",
    "# calculate the differences in v2/v3 with respect to the center pixel v2/v3\n",
    "v2diff=np.array(v2v3list.t['v2']-v2v3list.t.loc[fgs_ix_0,'v2'])\n",
    "v3diff=np.array(v2v3list.t['v3']-v2v3list.t.loc[fgs_ix_0,'v3'])\n",
    "# calculate the correction angle between the true fgs_V3IdlYAngle and the nominal one\n",
    "angle = fgs_V3IdlYAngle-fgs_aperture.V3IdlYAngle\n",
    "# Rotate the v2/v3 values, and add the *nominal* v2/v3 values\n",
    "(v2diffrot,v3diffrot) = R.evaluate(v2diff,v3diff,angle*u.deg)\n",
    "v2v3list.t['v2rot']=v2diffrot+fgs_aperture.V2Ref\n",
    "v2v3list.t['v3rot']=v3diffrot+fgs_aperture.V3Ref\n",
    "v2v3list.write()\n",
    "\n",
    "\n",
    "fgs_V3IdlYAngle_rot = np.degrees(np.arctan2(v2v3list.t.loc[fgs_ix_2,'v2rot']-v2v3list.t.loc[fgs_ix_1,'v2rot'], \n",
    "                                            v2v3list.t.loc[fgs_ix_2,'v3rot']-v2v3list.t.loc[fgs_ix_1,'v3rot']))\n",
    "if fgs_V3IdlYAngle_rot>90.0: fgs_V3IdlYAngle_rot-=180\n",
    "print(f'FGS rotated V3YIdlangle {fgs_V3IdlYAngle_rot:.8f} from {fgs_V3IdlYAngle:.8f} (nominal: {fgs_aperture.V3IdlYAngle:.8f})')\n",
    "\n",
    "print('###### Results:')\n",
    "print(f'{nrc_apername} V2Ref: {v2v3list.t.loc[nrc_ix_0,\"v2rot\"]:.4f} (nominal: {nrc_aperture.V2Ref:.4f})')\n",
    "print(f'{nrc_apername} V3Ref: {v2v3list.t.loc[nrc_ix_0,\"v3rot\"]:.4f} (nominal: {nrc_aperture.V3Ref:.4f})')\n",
    "nrc_V3IdlYAngle = np.degrees(np.arctan2(v2v3list.t.loc[nrc_ix_2,'v2rot']-v2v3list.t.loc[nrc_ix_1,'v2rot'], \n",
    "                                        v2v3list.t.loc[nrc_ix_2,'v3rot']-v2v3list.t.loc[nrc_ix_1,'v3rot']))\n",
    "if nrc_V3IdlYAngle>90.0: nrc_V3IdlYAngle-=180\n",
    "print(f'{nrc_apername} V3YIdlangle {nrc_V3IdlYAngle:.8f} (nominal: {nrc_aperture.V3IdlYAngle:.8f})')\n"
   ]
  },
  {
   "cell_type": "code",
   "execution_count": null,
   "id": "044f8d5f",
   "metadata": {},
   "outputs": [],
   "source": []
  },
  {
   "cell_type": "code",
   "execution_count": null,
   "id": "31d5362a",
   "metadata": {},
   "outputs": [],
   "source": []
  },
  {
   "cell_type": "code",
   "execution_count": null,
   "id": "4a50f5aa",
   "metadata": {},
   "outputs": [],
   "source": []
  },
  {
   "cell_type": "code",
   "execution_count": null,
   "id": "529ce034",
   "metadata": {},
   "outputs": [],
   "source": []
  },
  {
   "cell_type": "code",
   "execution_count": null,
   "id": "00f52af6",
   "metadata": {},
   "outputs": [],
   "source": []
  },
  {
   "cell_type": "code",
   "execution_count": null,
   "id": "27305905",
   "metadata": {},
   "outputs": [],
   "source": []
  },
  {
   "cell_type": "code",
   "execution_count": null,
   "id": "32570d29",
   "metadata": {},
   "outputs": [],
   "source": []
  },
  {
   "cell_type": "code",
   "execution_count": null,
   "id": "b1cf98c3",
   "metadata": {},
   "outputs": [],
   "source": []
  },
  {
   "cell_type": "code",
   "execution_count": null,
   "id": "af4cf827",
   "metadata": {},
   "outputs": [],
   "source": []
  },
  {
   "cell_type": "code",
   "execution_count": null,
   "id": "723756b6",
   "metadata": {},
   "outputs": [],
   "source": []
  },
  {
   "cell_type": "code",
   "execution_count": null,
   "id": "8dc5240b",
   "metadata": {},
   "outputs": [],
   "source": []
  }
 ],
 "metadata": {
  "kernelspec": {
   "display_name": "Python 3 (ipykernel)",
   "language": "python",
   "name": "python3"
  },
  "language_info": {
   "codemirror_mode": {
    "name": "ipython",
    "version": 3
   },
   "file_extension": ".py",
   "mimetype": "text/x-python",
   "name": "python",
   "nbconvert_exporter": "python",
   "pygments_lexer": "ipython3",
   "version": "3.10.4"
  }
 },
 "nbformat": 4,
 "nbformat_minor": 5
}
